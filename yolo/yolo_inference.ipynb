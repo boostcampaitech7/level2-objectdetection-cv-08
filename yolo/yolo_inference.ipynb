{
 "cells": [
  {
   "cell_type": "markdown",
   "metadata": {},
   "source": [
    "# 추론 및 테스트 기반 pseudo data 생성"
   ]
  },
  {
   "cell_type": "code",
   "execution_count": null,
   "metadata": {},
   "outputs": [],
   "source": [
    "from ultralytics import YOLO\n",
    "import pandas as pd\n",
    "import os\n",
    "from datetime import datetime"
   ]
  },
  {
   "cell_type": "code",
   "execution_count": null,
   "metadata": {},
   "outputs": [],
   "source": [
    "model_path = '/your model path'\n",
    "\n",
    "# 모델 로드\n",
    "model = YOLO(model_path)"
   ]
  },
  {
   "cell_type": "code",
   "execution_count": null,
   "metadata": {},
   "outputs": [],
   "source": [
    "# 테스트 세트 경로\n",
    "test_images_path = '/your_test_img_path'  # 테스트 이미지가 있는 폴더"
   ]
  },
  {
   "cell_type": "code",
   "execution_count": null,
   "metadata": {},
   "outputs": [],
   "source": [
    "# optional\n",
    "# YOLO 형식 바운딩 박스를 저장할 디렉토리\n",
    "yolo_labels_dir = '/labels'\n",
    "os.makedirs(yolo_labels_dir, exist_ok=True)"
   ]
  },
  {
   "cell_type": "code",
   "execution_count": null,
   "metadata": {},
   "outputs": [],
   "source": [
    "visualize = False # 모델의 중간 레이어나 기능을 시각화할지 여부\n",
    "augment = False # 예측 시에 데이터 증강(Data Augmentation)을 적용할지 여부를 설정\n",
    "agnostic_nms = False # 클래스에 상관없이 비판별(non-class-specific) NMS를 수행할지 여부\n",
    "# classes =  # (int | list[int], optional) 설명: 특정 클래스만 예측할지 설정하는 옵션\n",
    "# embed = # (list[int], optional) 지정한 레이어로부터 **특징 벡터(embeddings)**를 추출할지 여부를 설정, 주로 분석용으로 사용"
   ]
  },
  {
   "cell_type": "code",
   "execution_count": null,
   "metadata": {},
   "outputs": [],
   "source": [
    "# 예측 수행\n",
    "results = model(test_images_path,\n",
    "                imgsz = 1024, \n",
    "                iou = 0.6, \n",
    "                conf = 0.0001,\n",
    "                visualize = visualize,\n",
    "                augment = augment, \n",
    "                agnostic_nms = agnostic_nms\n",
    "                #, classes =  # (int | list[int], optional) 설명: 특정 클래스만 예측할지 설정하는 옵션\n",
    "                #, embed = # (list[int], optional) 지정한 레이어로부터 **특징 벡터(embeddings)**를 추출할지 여부를 설정, 주로 분석용으로 사용\n",
    "                ) "
   ]
  },
  {
   "cell_type": "code",
   "execution_count": null,
   "metadata": {},
   "outputs": [],
   "source": [
    "# 예측 결과를 Pascal VOC 형식으로 변환하여 CSV 파일로 저장\n",
    "rows = []\n",
    "for result in results:\n",
    "    image_id = result.path.split('/')[-1]  # 이미지 파일명\n",
    "    image_name = os.path.splitext(image_id)[0]  # 확장자를 제거한 이미지 ID\n",
    "    \n",
    "    # image_id에 \"test/\" 경로 추가\n",
    "    image_id = f\"test/{image_id}\" if not image_id.startswith(\"test/\") else image_id\n",
    "    \n",
    "    predictions = result.boxes.xyxy.cpu().numpy()  # 바운딩 박스 좌표 (xmin, ymin, xmax, ymax)\n",
    "    scores = result.boxes.conf.cpu().numpy()  # 신뢰도\n",
    "    labels = result.boxes.cls.cpu().numpy()  # 클래스 라벨\n",
    "\n",
    "    # YOLO 형식의 라벨을 저장할 텍스트 파일 경로\n",
    "    yolo_label_file = os.path.join(yolo_labels_dir, f\"{image_name}.txt\")\n",
    "    \n",
    "    prediction_strings = []\n",
    "    # 'w' 모드를 사용해 항상 덮어쓰기\n",
    "    with open(yolo_label_file, 'w') as f:\n",
    "        for label, score, (xmin, ymin, xmax, ymax) in zip(labels, scores, predictions):\n",
    "            # YOLO 형식 (class_id, x_center, y_center, width, height)을 계산하기 위해 이미지 크기 정보 필요\n",
    "            width = result.orig_shape[1]\n",
    "            height = result.orig_shape[0]\n",
    "            \n",
    "            # YOLO 형식으로 변환 (정규화된 값 사용)\n",
    "            x_center = (xmin + xmax) / 2 / width\n",
    "            y_center = (ymin + ymax) / 2 / height\n",
    "            box_width = (xmax - xmin) / width\n",
    "            box_height = (ymax - ymin) / height\n",
    "\n",
    "            # YOLO 형식으로 텍스트 파일에 기록 (덮어쓰기)\n",
    "            f.write(f\"{int(label)} {x_center:.6f} {y_center:.6f} {box_width:.6f} {box_height:.6f}\\n\")\n",
    "            \n",
    "            # Pascal VOC 형식으로 CSV 저장용 문자열 생성\n",
    "            prediction_strings.append(f\"{int(label)} {score:.6f} {xmin:.6f} {ymin:.6f} {xmax:.6f} {ymax:.6f}\")\n",
    "\n",
    "    # Pascal VOC 형식의 예측 문자열\n",
    "    prediction_string = \" \".join(prediction_strings)\n",
    "    rows.append([prediction_string, image_id])\n",
    "\n",
    "# 데이터프레임으로 변환하여 CSV로 저장\n",
    "# 현재 시간 구하기\n",
    "current_time = datetime.now().strftime('%Y%m%d_%H%M%S')\n",
    "csv_filename = f\"{current_time}_submission.csv\"\n",
    "\n",
    "df = pd.DataFrame(rows, columns=['PredictionString', 'image_id'])\n",
    "df.to_csv(csv_filename, index=False)\n",
    "\n",
    "print(f\"YOLO 형식의 바운딩 박스가 {yolo_labels_dir}에 저장되었습니다.\")\n",
    "print(f\"CSV 파일이 {csv_filename}에 저장되었습니다.\")"
   ]
  }
 ],
 "metadata": {
  "kernelspec": {
   "display_name": "base",
   "language": "python",
   "name": "python3"
  },
  "language_info": {
   "name": "python",
   "version": "3.10.13"
  }
 },
 "nbformat": 4,
 "nbformat_minor": 2
}
