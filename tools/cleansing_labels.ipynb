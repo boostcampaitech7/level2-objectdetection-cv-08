{
 "cells": [
  {
   "cell_type": "code",
   "execution_count": 1,
   "metadata": {},
   "outputs": [],
   "source": [
    "import os\n",
    "import json"
   ]
  },
  {
   "cell_type": "code",
   "execution_count": 2,
   "metadata": {},
   "outputs": [],
   "source": [
    "def make_annotations_ids_unique(json_file_path):\n",
    "    with open(json_file_path,'r') as f:\n",
    "        coco_data = json.load(f)\n",
    "\n",
    "    annotation_id = 1\n",
    "    for annotation in coco_data['annotations']:\n",
    "        annotation['id'] = annotation_id\n",
    "        annotation_id += 1\n",
    "    \n",
    "    for annotation in coco_data['annotations']:\n",
    "        annotation['category_id'] = int(annotation['category_id'])\n",
    "\n",
    "    with open(json_file_path, 'w') as f:\n",
    "        json.dump(coco_data,f,indent=4)\n",
    "    print('UNIQUE ANNOTATION ID, Category_id SAVE!')"
   ]
  },
  {
   "cell_type": "code",
   "execution_count": 3,
   "metadata": {},
   "outputs": [],
   "source": [
    "train_json_path = \"/data/ephemeral/home/pseudo/train.json\"\n",
    "val_json_path = \"/data/ephemeral/home/pseudo/val.json\""
   ]
  },
  {
   "cell_type": "code",
   "execution_count": 4,
   "metadata": {},
   "outputs": [
    {
     "name": "stdout",
     "output_type": "stream",
     "text": [
      "UNIQUE ANNOTATION ID, Category_id SAVE!\n",
      "UNIQUE ANNOTATION ID, Category_id SAVE!\n"
     ]
    }
   ],
   "source": [
    "make_annotations_ids_unique(train_json_path)\n",
    "make_annotations_ids_unique(val_json_path)"
   ]
  }
 ],
 "metadata": {
  "kernelspec": {
   "display_name": "base",
   "language": "python",
   "name": "python3"
  },
  "language_info": {
   "codemirror_mode": {
    "name": "ipython",
    "version": 3
   },
   "file_extension": ".py",
   "mimetype": "text/x-python",
   "name": "python",
   "nbconvert_exporter": "python",
   "pygments_lexer": "ipython3",
   "version": "3.10.13"
  }
 },
 "nbformat": 4,
 "nbformat_minor": 2
}
